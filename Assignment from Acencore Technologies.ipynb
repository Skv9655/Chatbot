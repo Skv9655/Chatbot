{
 "cells": [
  {
   "cell_type": "code",
   "execution_count": 28,
   "id": "1ae8c770-128d-4728-b343-4439d3e7a3f7",
   "metadata": {},
   "outputs": [
    {
     "name": "stdin",
     "output_type": "stream",
     "text": [
      "User:  hi\n"
     ]
    },
    {
     "name": "stdout",
     "output_type": "stream",
     "text": [
      "Bot: Hi there!\n"
     ]
    },
    {
     "name": "stdin",
     "output_type": "stream",
     "text": [
      "User:  how are you\n"
     ]
    },
    {
     "name": "stdout",
     "output_type": "stream",
     "text": [
      "Bot: I am Good, \n",
      " tell me something about you!\n"
     ]
    },
    {
     "name": "stdin",
     "output_type": "stream",
     "text": [
      "User:  I am great\n"
     ]
    },
    {
     "name": "stdout",
     "output_type": "stream",
     "text": [
      "Bot: Can you please clarify?\n"
     ]
    },
    {
     "name": "stdin",
     "output_type": "stream",
     "text": [
      "User:  ok\n"
     ]
    },
    {
     "name": "stdout",
     "output_type": "stream",
     "text": [
      "Bot: Can you please clarify?\n"
     ]
    },
    {
     "name": "stdin",
     "output_type": "stream",
     "text": [
      "User:  ok\n"
     ]
    },
    {
     "name": "stdout",
     "output_type": "stream",
     "text": [
      "Bot: Can you please clarify?\n"
     ]
    },
    {
     "name": "stdin",
     "output_type": "stream",
     "text": [
      "User:  how\n"
     ]
    },
    {
     "name": "stdout",
     "output_type": "stream",
     "text": [
      "Bot: I'm not sure what you mean.\n"
     ]
    },
    {
     "name": "stdin",
     "output_type": "stream",
     "text": [
      "User:  travel\n"
     ]
    },
    {
     "name": "stdout",
     "output_type": "stream",
     "text": [
      "Bot: It's summer, Shimla or Manali are the good place to go.\n"
     ]
    },
    {
     "name": "stdin",
     "output_type": "stream",
     "text": [
      "User:  waether\n"
     ]
    },
    {
     "name": "stdout",
     "output_type": "stream",
     "text": [
      "Bot: I don't understand.\n"
     ]
    },
    {
     "name": "stdin",
     "output_type": "stream",
     "text": [
      "User:  weather\n"
     ]
    },
    {
     "name": "stdout",
     "output_type": "stream",
     "text": [
      "Bot: It's raining outside.\n"
     ]
    },
    {
     "name": "stdin",
     "output_type": "stream",
     "text": [
      "User:  thanks\n"
     ]
    },
    {
     "name": "stdout",
     "output_type": "stream",
     "text": [
      "Bot: You are most welcome!\n",
      "Bot:  See you later!\n"
     ]
    }
   ],
   "source": [
    "import random\n",
    "import spacy\n",
    "from sklearn.feature_extraction.text import TfidfVectorizer\n",
    "from sklearn.linear_model import LogisticRegression\n",
    "\n",
    "# Load English language model\n",
    "nlp = spacy.load(\"en_core_web_sm\")\n",
    "\n",
    "# Define Intents\n",
    "intents = {\n",
    "    \"greet\": [\"Hello!\", \"Hi there!\", \"Hey!\"],\n",
    "    \"Greet_1\": [\"I am Good, \\n tell me something about you!\"],\n",
    "    \"Greet_2\": [\"Good to hear!, \\n can I help you with something?\", \"Sounds good!,\\n How can I help you today?\"],\n",
    "    \"goodbye\": [\"Goodbye!\", \"See you later!\", \"Bye!\", \"See you soon!\"],\n",
    "    \"thanks\": [\"You're welcome!\", \"No problem!\", \"Anytime!\", \"You are most welcome!\"],\n",
    "    \"weather\": [\"The weather is sunny today.\", \"It's raining outside.\", \"Expect snow later.\"],\n",
    "    \"travel\": [\"Where do you want to go?\", \"It's summer, Shimla or Manali are the good place to go.\"],\n",
    "    \"e_commerce\": [\"I would suggest you go with Amazon\", \"Flipkart is India's best Shopping App\"],\n",
    "    \"unknown\": [\"I'm not sure what you mean.\", \"Can you please clarify?\", \"I don't understand.\"],\n",
    "}\n",
    "\n",
    "\n",
    "# Create TF-IDF vectorizer\n",
    "tfidf_vectorizer = TfidfVectorizer(max_features=100, stop_words='english')\n",
    "\n",
    "# Create training data\n",
    "train_texts = []\n",
    "train_labels = []\n",
    "for intent, examples in intents.items():\n",
    "    for example in examples:\n",
    "        train_texts.append(example)\n",
    "        train_labels.append(intent)\n",
    "\n",
    "# Fit TF-IDF vectorizer\n",
    "X_train = tfidf_vectorizer.fit_transform(train_texts)\n",
    "\n",
    "# Train a simple classifier\n",
    "clf = LogisticRegression(max_iter=1000)\n",
    "clf.fit(X_train, train_labels)\n",
    "\n",
    "# Define a function to classify intent\n",
    "def classify_intent(user_input):\n",
    "    user_input_tfidf = tfidf_vectorizer.transform([user_input])\n",
    "    predicted_intent = clf.predict(user_input_tfidf)[0]\n",
    "    return predicted_intent\n",
    "\n",
    "# Define a function to extract entities\n",
    "def extract_entities(user_input):\n",
    "    entities = {}\n",
    "    doc = nlp(user_input)\n",
    "    for ent in doc.ents:\n",
    "        entities[ent.label_] = ent.text\n",
    "    return entities\n",
    "\n",
    "# Define a function to generate a response\n",
    "def generate_response(intent,entities=None):\n",
    "    try:\n",
    "        if any(word in user_input.lower() for word in [\"hello\", \"hi\", \"hey\"]):\n",
    "            return random.choice(intents[\"greet\"])\n",
    "        elif any(word in user_input.lower() for word in [\"how are you\", \"how its going\"]):\n",
    "            return random.choice(intents[\"Greet_1\"])\n",
    "        elif any(word in user_input.lower() for word in [\"I am good\", \"I am fine\",\"All well\",\"I am great\"]):\n",
    "            return random.choice(intents[\"Greet_2\"])\n",
    "        elif any(word in user_input.lower() for word in [\"thanks\", \"Thank you so much\",\"Thank You\"]):\n",
    "            return random.choice(intents[\"thanks\"])\n",
    "        elif any(word in user_input.lower() for word in [\"weather\", \"rain\", \"rainy\"]):\n",
    "            return random.choice(intents[\"weather\"])\n",
    "        elif any(word in user_input.lower() for word in [\"travel\",\"go\",\"vacation\", \"Holidays\",\"holiday\"]):\n",
    "            return random.choice(intents[\"travel\"])\n",
    "        elif any(word in user_input.lower() for word in [\"Shopping\", \"buy\", \"purchase\"]):\n",
    "            return random.choice(intents[\"e_commerce\"])\n",
    "        else:\n",
    "            return random.choice(intents[\"unknown\"])\n",
    "    except Exception as e:\n",
    "        print(\"Error generating response: \",e)\n",
    "        return random.choice(intents[\"unknown\"])\n",
    "\n",
    "# Define main loop\n",
    "while True:\n",
    "    user_input = input(\"User: \")\n",
    "    intent = classify_intent(user_input)\n",
    "    entities = extract_entities(user_input)\n",
    "    response = generate_response(intent, entities)\n",
    "    print(\"Bot:\", response)\n",
    "    \n",
    "    if \"thanks\" in user_input.lower():\n",
    "        print(\"Bot: \",random.choice(intents[\"goodbye\"]))\n",
    "        break\n"
   ]
  },
  {
   "cell_type": "code",
   "execution_count": 30,
   "id": "a3ffdc99-8983-439c-9fa0-2853050050c6",
   "metadata": {},
   "outputs": [
    {
     "name": "stdout",
     "output_type": "stream",
     "text": [
      "thanks\n"
     ]
    }
   ],
   "source": [
    "print(nlp(user_input))"
   ]
  },
  {
   "cell_type": "code",
   "execution_count": 32,
   "id": "9aec7584-f1f5-40a2-baf1-e22916a33027",
   "metadata": {},
   "outputs": [
    {
     "data": {
      "text/plain": [
       "{}"
      ]
     },
     "execution_count": 32,
     "metadata": {},
     "output_type": "execute_result"
    }
   ],
   "source": [
    "entities"
   ]
  },
  {
   "cell_type": "code",
   "execution_count": null,
   "id": "9adbea93-c771-4ed9-9a48-b0e143403b2f",
   "metadata": {},
   "outputs": [],
   "source": []
  }
 ],
 "metadata": {
  "kernelspec": {
   "display_name": "Python 3 (ipykernel)",
   "language": "python",
   "name": "python3"
  },
  "language_info": {
   "codemirror_mode": {
    "name": "ipython",
    "version": 3
   },
   "file_extension": ".py",
   "mimetype": "text/x-python",
   "name": "python",
   "nbconvert_exporter": "python",
   "pygments_lexer": "ipython3",
   "version": "3.11.5"
  }
 },
 "nbformat": 4,
 "nbformat_minor": 5
}
